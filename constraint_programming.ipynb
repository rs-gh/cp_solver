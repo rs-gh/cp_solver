{
 "cells": [
  {
   "cell_type": "code",
   "execution_count": null,
   "metadata": {},
   "outputs": [],
   "source": [
    "%load_ext autoreload\n",
    "%autoreload 2"
   ]
  },
  {
   "cell_type": "code",
   "execution_count": null,
   "metadata": {},
   "outputs": [],
   "source": [
    "from constraint import LessThanEqualConstraint, EqualityConstraint, NotEqualConstraint\n",
    "from variable_store import VariableStore\n",
    "from variable import Variable\n",
    "from expression import Expression\n",
    "from constant import Constant\n",
    "from operation import Add, Multiply, Inverse, Negative\n",
    "from model import Model"
   ]
  },
  {
   "cell_type": "code",
   "execution_count": null,
   "metadata": {},
   "outputs": [],
   "source": [
    "from utils import print_expression_tree, get_operands_without_variable"
   ]
  },
  {
   "cell_type": "markdown",
   "metadata": {},
   "source": [
    "### Example 1: Find values for a, b, and x such that a*x != b*x."
   ]
  },
  {
   "cell_type": "code",
   "execution_count": null,
   "metadata": {},
   "outputs": [],
   "source": [
    "model = Model()\n",
    "state = VariableStore()\n",
    "x = Variable('x')\n",
    "a = Variable('a')\n",
    "b = Variable('b')\n",
    "for i, var in enumerate(['a', 'x', 'b']):\n",
    "    state.add_to_variable_store(var, set([0, 1, 2, 3]), i)"
   ]
  },
  {
   "cell_type": "code",
   "execution_count": null,
   "metadata": {},
   "outputs": [],
   "source": [
    "state.store"
   ]
  },
  {
   "cell_type": "code",
   "execution_count": null,
   "metadata": {},
   "outputs": [],
   "source": [
    "cons = NotEqualConstraint(Multiply(a, x), Multiply(b, x))"
   ]
  },
  {
   "cell_type": "code",
   "execution_count": null,
   "metadata": {},
   "outputs": [],
   "source": [
    "model.add_variables(a, x, b)\n",
    "model.add_constraints(cons)"
   ]
  },
  {
   "cell_type": "code",
   "execution_count": null,
   "metadata": {},
   "outputs": [],
   "source": [
    "result, solved_state = model.solve(state)"
   ]
  },
  {
   "cell_type": "code",
   "execution_count": null,
   "metadata": {},
   "outputs": [],
   "source": [
    "result"
   ]
  },
  {
   "cell_type": "code",
   "execution_count": null,
   "metadata": {},
   "outputs": [],
   "source": [
    "solved_state.store"
   ]
  },
  {
   "cell_type": "code",
   "execution_count": null,
   "metadata": {},
   "outputs": [],
   "source": [
    "print_expression_tree(cons.lhs, state, 0)"
   ]
  },
  {
   "cell_type": "code",
   "execution_count": null,
   "metadata": {},
   "outputs": [],
   "source": [
    "print_expression_tree(cons.rhs, state, 0)"
   ]
  },
  {
   "cell_type": "markdown",
   "metadata": {},
   "source": [
    "### Example 2: Find values for the letter variables to solve the cryptarithmetic puzzle: CP + IS + FUN = TRUE.\n",
    "\n",
    "As [here]( https://developers.google.com/optimization/cp/cryptarithmetic#:~:text=The%20equation%3A%20CP%20%2B%20IS%20%2B,write%20leading%20zeros%20in%20numbers).\n"
   ]
  },
  {
   "cell_type": "code",
   "execution_count": null,
   "metadata": {},
   "outputs": [],
   "source": [
    "state = VariableStore()\n",
    "model = Model()"
   ]
  },
  {
   "cell_type": "code",
   "execution_count": null,
   "metadata": {},
   "outputs": [],
   "source": [
    "c = Variable('c')\n",
    "p = Variable('p')\n",
    "i = Variable('i')\n",
    "s = Variable('s')\n",
    "f = Variable('f')\n",
    "u = Variable('u')\n",
    "n = Variable('n')\n",
    "t = Variable('t')\n",
    "r = Variable('r')\n",
    "e = Variable('e')\n",
    "c1 = Variable('c1')\n",
    "c2 = Variable('c2')"
   ]
  },
  {
   "cell_type": "code",
   "execution_count": null,
   "metadata": {},
   "outputs": [],
   "source": [
    "for var in ('c', 'p', 'i', 's', 'f', 'u', 'n', 't', 'r', 'e'):\n",
    "    state.add_to_variable_store(var, set([0, 1, 2, 3, 4, 5, 6, 7, 8, 9]), 1)\n",
    "for var in ('c1', 'c2'):\n",
    "    state.add_to_variable_store(var, set([0, 1, 2]), 0)"
   ]
  },
  {
   "cell_type": "code",
   "execution_count": null,
   "metadata": {},
   "outputs": [],
   "source": [
    "exp1 = Add(p, s, n)\n",
    "exp1_eq = Add(Multiply(c1, Constant(10)), e)\n",
    "\n",
    "exp2 = Add(\n",
    "    Multiply(c1, Constant(10)),\n",
    "    Multiply(c, Constant(10)),\n",
    "    Multiply(i, Constant(10)),\n",
    "    Multiply(u, Constant(10))\n",
    ")\n",
    "exp2_eq = Add(\n",
    "    Multiply(c2, Constant(100)),\n",
    "    Multiply(u, Constant(10))\n",
    ")\n",
    "\n",
    "exp3 = Add(\n",
    "    Multiply(c2, Constant(100)), \n",
    "    Multiply(f, Constant(100))\n",
    ")\n",
    "exp3_eq = Add(\n",
    "    Multiply(t, Constant(1000)), \n",
    "    Multiply(r, Constant(100))\n",
    ")"
   ]
  },
  {
   "cell_type": "code",
   "execution_count": null,
   "metadata": {},
   "outputs": [],
   "source": [
    "cons1 = EqualityConstraint(exp1, exp1_eq)\n",
    "cons2 = EqualityConstraint(exp2, exp2_eq)\n",
    "cons3 = EqualityConstraint(exp3, exp3_eq)\n",
    "cons4 = NotEqualConstraint(c, Constant(0))\n",
    "cons5 = NotEqualConstraint(i, Constant(0))\n",
    "cons6 = NotEqualConstraint(f, Constant(0))\n",
    "cons7 = NotEqualConstraint(t, Constant(0))\n",
    "cons8 = NotEqualConstraint(c, p)\n",
    "cons9 = NotEqualConstraint(p, i)\n",
    "cons10 = NotEqualConstraint(i, s)\n",
    "cons11 = NotEqualConstraint(s, f)\n",
    "cons12 = NotEqualConstraint(f, u)\n",
    "cons13 = NotEqualConstraint(u, n)\n",
    "cons14 = NotEqualConstraint(n, t)\n",
    "cons15 = NotEqualConstraint(t, r)\n",
    "cons16 = NotEqualConstraint(r, e)"
   ]
  },
  {
   "cell_type": "code",
   "execution_count": null,
   "metadata": {},
   "outputs": [],
   "source": [
    "model.add_variables(c, p, i, s, f, u, n, t, r, e, c1, c2)\n",
    "model.add_constraints(\n",
    "    cons1, cons2, cons3, cons4, cons5, cons6, cons7, cons8,\n",
    "    cons9, cons10, cons11, cons12, cons13, cons14, cons15, cons16\n",
    ")"
   ]
  },
  {
   "cell_type": "code",
   "execution_count": null,
   "metadata": {},
   "outputs": [],
   "source": [
    "result, solved_state = model.solve(state)"
   ]
  },
  {
   "cell_type": "code",
   "execution_count": null,
   "metadata": {},
   "outputs": [],
   "source": [
    "result"
   ]
  },
  {
   "cell_type": "code",
   "execution_count": null,
   "metadata": {},
   "outputs": [],
   "source": [
    "solved_state.store"
   ]
  },
  {
   "cell_type": "code",
   "execution_count": null,
   "metadata": {},
   "outputs": [],
   "source": []
  }
 ],
 "metadata": {
  "kernelspec": {
   "display_name": "Python 3",
   "language": "python",
   "name": "python3"
  },
  "language_info": {
   "codemirror_mode": {
    "name": "ipython",
    "version": 3
   },
   "file_extension": ".py",
   "mimetype": "text/x-python",
   "name": "python",
   "nbconvert_exporter": "python",
   "pygments_lexer": "ipython3",
   "version": "3.7.3"
  }
 },
 "nbformat": 4,
 "nbformat_minor": 2
}
