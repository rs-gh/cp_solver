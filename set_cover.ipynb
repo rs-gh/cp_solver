{
 "cells": [
  {
   "cell_type": "code",
   "execution_count": null,
   "metadata": {},
   "outputs": [],
   "source": [
    "%load_ext autoreload\n",
    "%autoreload 2"
   ]
  },
  {
   "cell_type": "code",
   "execution_count": null,
   "metadata": {},
   "outputs": [],
   "source": [
    "from constraint import LessThanEqualConstraint, EqualityConstraint, NotEqualConstraint\n",
    "from variable_store import VariableStore\n",
    "from variable import Variable\n",
    "from expression import Expression\n",
    "from constant import Constant\n",
    "from operation import Add, Multiply, Inverse, Negative\n",
    "from model import Model"
   ]
  },
  {
   "cell_type": "code",
   "execution_count": null,
   "metadata": {},
   "outputs": [],
   "source": [
    "import numpy as np"
   ]
  },
  {
   "cell_type": "code",
   "execution_count": null,
   "metadata": {},
   "outputs": [],
   "source": [
    "num_items = 1\n",
    "num_sets = 1"
   ]
  },
  {
   "cell_type": "code",
   "execution_count": null,
   "metadata": {},
   "outputs": [],
   "source": [
    "sets_and_costs = (\n",
    "    # set 0\n",
    "    (0, 12),\n",
    "    # set 1\n",
    "#     (1, 7),\n",
    "#     (2, 10),\n",
    "#     (3, 5)\n",
    ")"
   ]
  },
  {
   "cell_type": "code",
   "execution_count": null,
   "metadata": {},
   "outputs": [],
   "source": [
    "item_set_matrix = np.matrix([\n",
    "    # item 0\n",
    "    [1] #, 0, 0, 0],\n",
    "    # item 1\n",
    "#     [0, 1, 1, 0],\n",
    "#     [1, 1, 0, 0],\n",
    "#     [0, 1, 0, 0],\n",
    "#     [0, 0, 0, 1]\n",
    "])"
   ]
  },
  {
   "cell_type": "code",
   "execution_count": null,
   "metadata": {},
   "outputs": [],
   "source": [
    "model = Model()\n",
    "state = VariableStore()"
   ]
  },
  {
   "cell_type": "code",
   "execution_count": null,
   "metadata": {},
   "outputs": [],
   "source": [
    "variables = {s: Variable('set' + str(s)) for s, _ in sets_and_costs}"
   ]
  },
  {
   "cell_type": "code",
   "execution_count": null,
   "metadata": {},
   "outputs": [],
   "source": [
    "for s, var in variables.items():\n",
    "    state.add_to_variable_store(var.name, {0, 1})\n",
    "    model.add_variables(var)\n",
    "\n",
    "for item in range(num_items):\n",
    "    # cover every item\n",
    "    cons =  LessThanEqualConstraint(\n",
    "        Constant(1), \n",
    "        Add(*[Multiply(Constant(item_set_matrix[item, s]), var) for s, var in variables.items()])\n",
    "    )\n",
    "    model.add_constraints(cons)"
   ]
  },
  {
   "cell_type": "code",
   "execution_count": null,
   "metadata": {},
   "outputs": [],
   "source": [
    "from utils import print_expression_tree"
   ]
  },
  {
   "cell_type": "code",
   "execution_count": null,
   "metadata": {},
   "outputs": [],
   "source": [
    "print_expression_tree(cons.lhs, state, 0)"
   ]
  },
  {
   "cell_type": "code",
   "execution_count": null,
   "metadata": {},
   "outputs": [],
   "source": [
    "print_expression_tree(cons.rhs, state, 0)"
   ]
  },
  {
   "cell_type": "code",
   "execution_count": null,
   "metadata": {},
   "outputs": [],
   "source": [
    "result, state = model.solve(state)"
   ]
  },
  {
   "cell_type": "code",
   "execution_count": null,
   "metadata": {},
   "outputs": [],
   "source": [
    "result"
   ]
  },
  {
   "cell_type": "code",
   "execution_count": null,
   "metadata": {},
   "outputs": [],
   "source": [
    "state"
   ]
  },
  {
   "cell_type": "code",
   "execution_count": null,
   "metadata": {},
   "outputs": [],
   "source": []
  }
 ],
 "metadata": {
  "kernelspec": {
   "display_name": "Python 3",
   "language": "python",
   "name": "python3"
  },
  "language_info": {
   "codemirror_mode": {
    "name": "ipython",
    "version": 3
   },
   "file_extension": ".py",
   "mimetype": "text/x-python",
   "name": "python",
   "nbconvert_exporter": "python",
   "pygments_lexer": "ipython3",
   "version": "3.7.3"
  }
 },
 "nbformat": 4,
 "nbformat_minor": 2
}
